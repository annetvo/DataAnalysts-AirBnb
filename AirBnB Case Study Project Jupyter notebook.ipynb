{
 "cells": [
  {
   "cell_type": "markdown",
   "metadata": {},
   "source": [
    "# AirBnB NY Locations Data Case Study\n",
    "\n",
    "In this final project, you task will be to take the data provided and find evidance to answer the following questions.\n",
    "\n",
    "1. Which hosts are the busiest and why?\n",
    "2. How many neighborhood groups are available and which shows up the most?\n",
    "3. Are private rooms the most popular in manhattan?\n",
    "4. Which hosts are the busiest and based on their reviews?\n",
    "5. Which neighorhood group has the highest average price?\n",
    "6. Which neighborhood group has the highest total price?\n",
    "7. Which top 5 hosts have the highest total price?\n",
    "8. Who currently has no (zero) availability with a review count of 100 or more?\n",
    "9. What host has the highest total of prices and where are they located?\n",
    "10. When did Danielle from Queens last receive a review?\n",
    "\n",
    "You will be given **4 hours** to complete this assignment. \n",
    "**Be Advised** I will go dark for this intire assignment time period. That said, any questions that you would like to ask about the data, or the project **MUST** be asked before the time starts. Once the time has started, I can no longer give information.\n",
    "\n",
    "This is to similate what you will face when you are out in the wild. \n",
    "\n",
    "Happy Coding!"
   ]
  },
  {
   "cell_type": "code",
   "execution_count": 1,
   "metadata": {},
   "outputs": [],
   "source": [
    "import numpy as np\n",
    "import pandas as pd\n",
    "import matplotlib.pyplot as plt"
   ]
  },
  {
   "cell_type": "code",
   "execution_count": 2,
   "metadata": {},
   "outputs": [
    {
     "data": {
      "text/html": [
       "<div>\n",
       "<style scoped>\n",
       "    .dataframe tbody tr th:only-of-type {\n",
       "        vertical-align: middle;\n",
       "    }\n",
       "\n",
       "    .dataframe tbody tr th {\n",
       "        vertical-align: top;\n",
       "    }\n",
       "\n",
       "    .dataframe thead th {\n",
       "        text-align: right;\n",
       "    }\n",
       "</style>\n",
       "<table border=\"1\" class=\"dataframe\">\n",
       "  <thead>\n",
       "    <tr style=\"text-align: right;\">\n",
       "      <th></th>\n",
       "      <th>id</th>\n",
       "      <th>name</th>\n",
       "      <th>host_id</th>\n",
       "      <th>host_name</th>\n",
       "      <th>neighbourhood_group</th>\n",
       "      <th>neighbourhood</th>\n",
       "      <th>latitude</th>\n",
       "      <th>longitude</th>\n",
       "      <th>room_type</th>\n",
       "      <th>price</th>\n",
       "      <th>minimum_nights</th>\n",
       "      <th>number_of_reviews</th>\n",
       "      <th>last_review</th>\n",
       "      <th>reviews_per_month</th>\n",
       "      <th>calculated_host_listings_count</th>\n",
       "      <th>availability_365</th>\n",
       "    </tr>\n",
       "  </thead>\n",
       "  <tbody>\n",
       "    <tr>\n",
       "      <th>0</th>\n",
       "      <td>2539</td>\n",
       "      <td>Clean &amp; quiet apt home by the park</td>\n",
       "      <td>2787</td>\n",
       "      <td>John</td>\n",
       "      <td>Brooklyn</td>\n",
       "      <td>Kensington</td>\n",
       "      <td>40.64749</td>\n",
       "      <td>-73.97237</td>\n",
       "      <td>Private room</td>\n",
       "      <td>149</td>\n",
       "      <td>1</td>\n",
       "      <td>9</td>\n",
       "      <td>2018-10-19</td>\n",
       "      <td>0.21</td>\n",
       "      <td>6</td>\n",
       "      <td>365</td>\n",
       "    </tr>\n",
       "    <tr>\n",
       "      <th>1</th>\n",
       "      <td>2595</td>\n",
       "      <td>Skylit Midtown Castle</td>\n",
       "      <td>2845</td>\n",
       "      <td>Jennifer</td>\n",
       "      <td>Manhattan</td>\n",
       "      <td>Midtown</td>\n",
       "      <td>40.75362</td>\n",
       "      <td>-73.98377</td>\n",
       "      <td>Entire home/apt</td>\n",
       "      <td>225</td>\n",
       "      <td>1</td>\n",
       "      <td>45</td>\n",
       "      <td>2019-05-21</td>\n",
       "      <td>0.38</td>\n",
       "      <td>2</td>\n",
       "      <td>355</td>\n",
       "    </tr>\n",
       "    <tr>\n",
       "      <th>2</th>\n",
       "      <td>3647</td>\n",
       "      <td>THE VILLAGE OF HARLEM....NEW YORK !</td>\n",
       "      <td>4632</td>\n",
       "      <td>Elisabeth</td>\n",
       "      <td>Manhattan</td>\n",
       "      <td>Harlem</td>\n",
       "      <td>40.80902</td>\n",
       "      <td>-73.94190</td>\n",
       "      <td>Private room</td>\n",
       "      <td>150</td>\n",
       "      <td>3</td>\n",
       "      <td>0</td>\n",
       "      <td>NaN</td>\n",
       "      <td>NaN</td>\n",
       "      <td>1</td>\n",
       "      <td>365</td>\n",
       "    </tr>\n",
       "    <tr>\n",
       "      <th>3</th>\n",
       "      <td>3831</td>\n",
       "      <td>Cozy Entire Floor of Brownstone</td>\n",
       "      <td>4869</td>\n",
       "      <td>LisaRoxanne</td>\n",
       "      <td>Brooklyn</td>\n",
       "      <td>Clinton Hill</td>\n",
       "      <td>40.68514</td>\n",
       "      <td>-73.95976</td>\n",
       "      <td>Entire home/apt</td>\n",
       "      <td>89</td>\n",
       "      <td>1</td>\n",
       "      <td>270</td>\n",
       "      <td>2019-07-05</td>\n",
       "      <td>4.64</td>\n",
       "      <td>1</td>\n",
       "      <td>194</td>\n",
       "    </tr>\n",
       "    <tr>\n",
       "      <th>4</th>\n",
       "      <td>5022</td>\n",
       "      <td>Entire Apt: Spacious Studio/Loft by central park</td>\n",
       "      <td>7192</td>\n",
       "      <td>Laura</td>\n",
       "      <td>Manhattan</td>\n",
       "      <td>East Harlem</td>\n",
       "      <td>40.79851</td>\n",
       "      <td>-73.94399</td>\n",
       "      <td>Entire home/apt</td>\n",
       "      <td>80</td>\n",
       "      <td>10</td>\n",
       "      <td>9</td>\n",
       "      <td>2018-11-19</td>\n",
       "      <td>0.10</td>\n",
       "      <td>1</td>\n",
       "      <td>0</td>\n",
       "    </tr>\n",
       "  </tbody>\n",
       "</table>\n",
       "</div>"
      ],
      "text/plain": [
       "     id                                              name  host_id  \\\n",
       "0  2539                Clean & quiet apt home by the park     2787   \n",
       "1  2595                             Skylit Midtown Castle     2845   \n",
       "2  3647               THE VILLAGE OF HARLEM....NEW YORK !     4632   \n",
       "3  3831                   Cozy Entire Floor of Brownstone     4869   \n",
       "4  5022  Entire Apt: Spacious Studio/Loft by central park     7192   \n",
       "\n",
       "     host_name neighbourhood_group neighbourhood  latitude  longitude  \\\n",
       "0         John            Brooklyn    Kensington  40.64749  -73.97237   \n",
       "1     Jennifer           Manhattan       Midtown  40.75362  -73.98377   \n",
       "2    Elisabeth           Manhattan        Harlem  40.80902  -73.94190   \n",
       "3  LisaRoxanne            Brooklyn  Clinton Hill  40.68514  -73.95976   \n",
       "4        Laura           Manhattan   East Harlem  40.79851  -73.94399   \n",
       "\n",
       "         room_type  price  minimum_nights  number_of_reviews last_review  \\\n",
       "0     Private room    149               1                  9  2018-10-19   \n",
       "1  Entire home/apt    225               1                 45  2019-05-21   \n",
       "2     Private room    150               3                  0         NaN   \n",
       "3  Entire home/apt     89               1                270  2019-07-05   \n",
       "4  Entire home/apt     80              10                  9  2018-11-19   \n",
       "\n",
       "   reviews_per_month  calculated_host_listings_count  availability_365  \n",
       "0               0.21                               6               365  \n",
       "1               0.38                               2               355  \n",
       "2                NaN                               1               365  \n",
       "3               4.64                               1               194  \n",
       "4               0.10                               1                 0  "
      ]
     },
     "execution_count": 2,
     "metadata": {},
     "output_type": "execute_result"
    }
   ],
   "source": [
    "air_bnb = pd.read_csv('./AB_NYC_2019.csv')\n",
    "air_bnb.head()"
   ]
  },
  {
   "cell_type": "code",
   "execution_count": 26,
   "metadata": {},
   "outputs": [
    {
     "name": "stdout",
     "output_type": "stream",
     "text": [
      "  neighbourhood_group  neighbourhood\n",
      "2           Manhattan          21661\n",
      "1            Brooklyn          20104\n",
      "3              Queens           5666\n",
      "0               Bronx           1091\n",
      "4       Staten Island            373\n"
     ]
    }
   ],
   "source": [
    "# How many neighborhood groups are available and which shows up the most?\n",
    "air_bnb.neighbourhood_group.unique()\n",
    "neighbourhoods = air_bnb.groupby('neighbourhood_group', as_index=False).count()[['neighbourhood_group', 'neighbourhood']]\n",
    "sorted_neighbourhoods = neighbourhoods.sort_values(['neighbourhood'], ascending=False)\n",
    "print(sorted_neighbourhoods)\n",
    "\n",
    "\n"
   ]
  },
  {
   "cell_type": "code",
   "execution_count": 4,
   "metadata": {},
   "outputs": [
    {
     "name": "stdout",
     "output_type": "stream",
     "text": [
      "                                        id\n",
      "neighbourhood_group room_type             \n",
      "Bronx               Entire home/apt    379\n",
      "                    Private room       652\n",
      "                    Shared room         60\n",
      "Brooklyn            Entire home/apt   9559\n",
      "                    Private room     10132\n",
      "                    Shared room        413\n",
      "Manhattan           Entire home/apt  13199\n",
      "                    Private room      7982\n",
      "                    Shared room        480\n",
      "Queens              Entire home/apt   2096\n",
      "                    Private room      3372\n",
      "                    Shared room        198\n",
      "Staten Island       Entire home/apt    176\n",
      "                    Private room       188\n",
      "                    Shared room          9\n"
     ]
    }
   ],
   "source": [
    "# Are private rooms the most popular in manhattan?\n",
    "neighbourhood=air_bnb.groupby(['neighbourhood_group', 'room_type'])\n",
    "print(neighbourhood[['id']].count())\n",
    "\n"
   ]
  },
  {
   "cell_type": "code",
   "execution_count": 5,
   "metadata": {},
   "outputs": [
    {
     "name": "stdout",
     "output_type": "stream",
     "text": [
      "           reviews_per_month\n",
      "host_id                     \n",
      "219517861                207\n",
      "61391963                  79\n",
      "16098958                  61\n",
      "137358866                 51\n",
      "7503643                   49\n"
     ]
    }
   ],
   "source": [
    "# Which hosts are the busiest and based on their reviews?\n",
    "groupby_host_id=air_bnb.groupby('host_id')\n",
    "hosts = groupby_host_id[['reviews_per_month']].count()\n",
    "sorted_hosts=hosts.sort_values(['reviews_per_month'], ascending=False).head()\n",
    "print(sorted_hosts)"
   ]
  },
  {
   "cell_type": "code",
   "execution_count": 6,
   "metadata": {},
   "outputs": [
    {
     "data": {
      "text/plain": [
       "neighbourhood_group\n",
       "Manhattan        196.875814\n",
       "Brooklyn         124.383207\n",
       "Staten Island    114.812332\n",
       "Queens            99.517649\n",
       "Bronx             87.496792\n",
       "Name: price, dtype: float64"
      ]
     },
     "execution_count": 6,
     "metadata": {},
     "output_type": "execute_result"
    }
   ],
   "source": [
    "#Which neighorhood group has the highest average price?\n",
    "average = air_bnb.groupby('neighbourhood_group')['price'].mean()\n",
    "average.sort_values(ascending=False)"
   ]
  },
  {
   "cell_type": "code",
   "execution_count": 7,
   "metadata": {},
   "outputs": [
    {
     "name": "stdout",
     "output_type": "stream",
     "text": [
      "neighbourhood_group\n",
      "Bronx              95459\n",
      "Brooklyn         2500600\n",
      "Manhattan        4264527\n",
      "Queens            563867\n",
      "Staten Island      42825\n",
      "Name: price, dtype: int64\n"
     ]
    }
   ],
   "source": [
    "# Which neighbor hood group has the highest total price?\n",
    "print(air_bnb.groupby('neighbourhood_group')['price'].sum())"
   ]
  },
  {
   "cell_type": "code",
   "execution_count": 51,
   "metadata": {
    "scrolled": true
   },
   "outputs": [
    {
     "data": {
      "text/html": [
       "<div>\n",
       "<style scoped>\n",
       "    .dataframe tbody tr th:only-of-type {\n",
       "        vertical-align: middle;\n",
       "    }\n",
       "\n",
       "    .dataframe tbody tr th {\n",
       "        vertical-align: top;\n",
       "    }\n",
       "\n",
       "    .dataframe thead th {\n",
       "        text-align: right;\n",
       "    }\n",
       "</style>\n",
       "<table border=\"1\" class=\"dataframe\">\n",
       "  <thead>\n",
       "    <tr style=\"text-align: right;\">\n",
       "      <th></th>\n",
       "      <th>id</th>\n",
       "      <th>host_id</th>\n",
       "      <th>latitude</th>\n",
       "      <th>longitude</th>\n",
       "      <th>price</th>\n",
       "      <th>minimum_nights</th>\n",
       "      <th>number_of_reviews</th>\n",
       "      <th>reviews_per_month</th>\n",
       "      <th>calculated_host_listings_count</th>\n",
       "      <th>availability_365</th>\n",
       "    </tr>\n",
       "    <tr>\n",
       "      <th>host_name</th>\n",
       "      <th></th>\n",
       "      <th></th>\n",
       "      <th></th>\n",
       "      <th></th>\n",
       "      <th></th>\n",
       "      <th></th>\n",
       "      <th></th>\n",
       "      <th></th>\n",
       "      <th></th>\n",
       "      <th></th>\n",
       "    </tr>\n",
       "  </thead>\n",
       "  <tbody>\n",
       "    <tr>\n",
       "      <th>Sonder (NYC)</th>\n",
       "      <td>10885561678</td>\n",
       "      <td>71782340547</td>\n",
       "      <td>13316.25823</td>\n",
       "      <td>-24198.18856</td>\n",
       "      <td>82795</td>\n",
       "      <td>4353</td>\n",
       "      <td>1281</td>\n",
       "      <td>397.56</td>\n",
       "      <td>106929</td>\n",
       "      <td>98588</td>\n",
       "    </tr>\n",
       "    <tr>\n",
       "      <th>Blueground</th>\n",
       "      <td>7210036953</td>\n",
       "      <td>24924786136</td>\n",
       "      <td>9451.60418</td>\n",
       "      <td>-17166.13165</td>\n",
       "      <td>70331</td>\n",
       "      <td>7470</td>\n",
       "      <td>29</td>\n",
       "      <td>6.04</td>\n",
       "      <td>53824</td>\n",
       "      <td>58884</td>\n",
       "    </tr>\n",
       "    <tr>\n",
       "      <th>Michael</th>\n",
       "      <td>7430617239</td>\n",
       "      <td>22673153604</td>\n",
       "      <td>16984.89137</td>\n",
       "      <td>-30841.28573</td>\n",
       "      <td>66895</td>\n",
       "      <td>4600</td>\n",
       "      <td>11081</td>\n",
       "      <td>475.82</td>\n",
       "      <td>1043</td>\n",
       "      <td>38888</td>\n",
       "    </tr>\n",
       "    <tr>\n",
       "      <th>David</th>\n",
       "      <td>7943862898</td>\n",
       "      <td>28633613354</td>\n",
       "      <td>16414.34392</td>\n",
       "      <td>-29804.53757</td>\n",
       "      <td>65844</td>\n",
       "      <td>3754</td>\n",
       "      <td>8103</td>\n",
       "      <td>508.61</td>\n",
       "      <td>907</td>\n",
       "      <td>44171</td>\n",
       "    </tr>\n",
       "    <tr>\n",
       "      <th>Alex</th>\n",
       "      <td>5496620312</td>\n",
       "      <td>19850092761</td>\n",
       "      <td>11361.10533</td>\n",
       "      <td>-20635.86235</td>\n",
       "      <td>52563</td>\n",
       "      <td>1651</td>\n",
       "      <td>6204</td>\n",
       "      <td>443.44</td>\n",
       "      <td>475</td>\n",
       "      <td>30031</td>\n",
       "    </tr>\n",
       "  </tbody>\n",
       "</table>\n",
       "</div>"
      ],
      "text/plain": [
       "                       id      host_id     latitude    longitude  price  \\\n",
       "host_name                                                                 \n",
       "Sonder (NYC)  10885561678  71782340547  13316.25823 -24198.18856  82795   \n",
       "Blueground     7210036953  24924786136   9451.60418 -17166.13165  70331   \n",
       "Michael        7430617239  22673153604  16984.89137 -30841.28573  66895   \n",
       "David          7943862898  28633613354  16414.34392 -29804.53757  65844   \n",
       "Alex           5496620312  19850092761  11361.10533 -20635.86235  52563   \n",
       "\n",
       "              minimum_nights  number_of_reviews  reviews_per_month  \\\n",
       "host_name                                                            \n",
       "Sonder (NYC)            4353               1281             397.56   \n",
       "Blueground              7470                 29               6.04   \n",
       "Michael                 4600              11081             475.82   \n",
       "David                   3754               8103             508.61   \n",
       "Alex                    1651               6204             443.44   \n",
       "\n",
       "              calculated_host_listings_count  availability_365  \n",
       "host_name                                                       \n",
       "Sonder (NYC)                          106929             98588  \n",
       "Blueground                             53824             58884  \n",
       "Michael                                 1043             38888  \n",
       "David                                    907             44171  \n",
       "Alex                                     475             30031  "
      ]
     },
     "execution_count": 51,
     "metadata": {},
     "output_type": "execute_result"
    }
   ],
   "source": [
    "#Which top 5 hosts have the highest total price?\n",
    "top5 = air_bnb.groupby('host_name').sum().sort_values('price', ascending = False)\n",
    "top5.head(5)\n"
   ]
  },
  {
   "cell_type": "code",
   "execution_count": 9,
   "metadata": {},
   "outputs": [
    {
     "data": {
      "text/plain": [
       "id                                162\n",
       "name                              162\n",
       "host_id                           162\n",
       "host_name                         161\n",
       "neighbourhood_group               162\n",
       "neighbourhood                     162\n",
       "latitude                          162\n",
       "longitude                         162\n",
       "room_type                         162\n",
       "price                             162\n",
       "minimum_nights                    162\n",
       "number_of_reviews                 162\n",
       "last_review                       162\n",
       "reviews_per_month                 162\n",
       "calculated_host_listings_count    162\n",
       "availability_365                  162\n",
       "dtype: int64"
      ]
     },
     "execution_count": 9,
     "metadata": {},
     "output_type": "execute_result"
    }
   ],
   "source": [
    "# Who currently has no (zero) availability with a review count of 100 or more?\n",
    "no_avail = air_bnb[(air_bnb['availability_365'] == 0) & (air_bnb['number_of_reviews'] >= 100)]\n",
    "\n",
    "no_avail.count()\n"
   ]
  },
  {
   "cell_type": "code",
   "execution_count": 17,
   "metadata": {},
   "outputs": [
    {
     "name": "stdout",
     "output_type": "stream",
     "text": [
      "                                 price\n",
      "host_name    neighbourhood            \n",
      "Sonder (NYC) Financial District  57738\n"
     ]
    }
   ],
   "source": [
    "# What host has the highest total of prices and where are they located?\n",
    "print(air_bnb.groupby(['host_name','neighbourhood'])[['price']].sum().nlargest(1,['price']))\n"
   ]
  },
  {
   "cell_type": "code",
   "execution_count": 18,
   "metadata": {},
   "outputs": [
    {
     "name": "stdout",
     "output_type": "stream",
     "text": [
      "7086     2019-07-03\n",
      "16349           NaN\n",
      "20403    2019-07-06\n",
      "21517    2019-07-07\n",
      "22068    2019-07-06\n",
      "22469    2019-07-08\n",
      "27021    2018-01-02\n",
      "33861    2019-06-20\n",
      "Name: last_review, dtype: object\n"
     ]
    }
   ],
   "source": [
    "# When did Danielle from Queens last receive a review?\n",
    "print(air_bnb[(air_bnb['host_name']=='Danielle') & (air_bnb['neighbourhood_group']=='Queens')]['last_review'])\n"
   ]
  },
  {
   "cell_type": "markdown",
   "metadata": {},
   "source": [
    "## Further Questions\n",
    "\n",
    "1. Which host has the most listings?"
   ]
  },
  {
   "cell_type": "code",
   "execution_count": 23,
   "metadata": {},
   "outputs": [
    {
     "name": "stdout",
     "output_type": "stream",
     "text": [
      "host_name\n",
      "Michael         417\n",
      "David           403\n",
      "Sonder (NYC)    327\n",
      "John            294\n",
      "Alex            279\n",
      "Name: name, dtype: int64\n"
     ]
    }
   ],
   "source": [
    "print(air_bnb.groupby('host_name')['name'].count().nlargest())"
   ]
  },
  {
   "cell_type": "markdown",
   "metadata": {},
   "source": [
    "2. How many listings have completely open availability?"
   ]
  },
  {
   "cell_type": "code",
   "execution_count": 24,
   "metadata": {},
   "outputs": [
    {
     "data": {
      "text/plain": [
       "1295"
      ]
     },
     "execution_count": 24,
     "metadata": {},
     "output_type": "execute_result"
    }
   ],
   "source": [
    "open365 = air_bnb[air_bnb['availability_365'] >= 365]\n",
    "open365.id.count()"
   ]
  },
  {
   "cell_type": "markdown",
   "metadata": {},
   "source": [
    "3. What room_types have the highest review numbers?"
   ]
  },
  {
   "cell_type": "code",
   "execution_count": 25,
   "metadata": {},
   "outputs": [
    {
     "name": "stdout",
     "output_type": "stream",
     "text": [
      "room_type\n",
      "Entire home/apt    580403\n",
      "Private room       538346\n",
      "Shared room         19256\n",
      "Name: number_of_reviews, dtype: int64\n"
     ]
    }
   ],
   "source": [
    "print(air_bnb.groupby('room_type')['number_of_reviews'].sum())"
   ]
  },
  {
   "cell_type": "markdown",
   "metadata": {},
   "source": [
    "# Final Conclusion\n",
    "\n",
    "In this cell, write your final conclusion for each of the questions asked.\n",
    "\n",
    "Also, if you uncovered some more details that were not asked above, please discribe them here.\n",
    "\n",
    "-- Add your conclusion --"
   ]
  },
  {
   "cell_type": "markdown",
   "metadata": {},
   "source": [
    "<h6> Questions </h6>\n",
    "<ol> \n",
    "    <li>manhattan</li>\n",
    "    <li>entire homes/apt are most popular</li>\n",
    "    <li>host 219517861 has was the busiest</li>\n",
    "    <li>manhattan</li>\n",
    "    <li>manhattan</li>\n",
    "    <li>sonder, blueground, michael, david, alex</li>\n",
    "    <li>162</li>\n",
    "    <li>sonder</li>\n",
    "    <li>7/8/2019</li>\n",
    "</ol>\n",
    "<h6> Further Questions </h6>\n",
    "<ol>\n",
    "    <li>michael</li>\n",
    "    <li>1295</li>\n",
    "    <li>entire homes/apt</li>\n",
    "</ol>\n",
    "    "
   ]
  }
 ],
 "metadata": {
  "kernelspec": {
   "display_name": "Python 3",
   "language": "python",
   "name": "python3"
  },
  "language_info": {
   "codemirror_mode": {
    "name": "ipython",
    "version": 3
   },
   "file_extension": ".py",
   "mimetype": "text/x-python",
   "name": "python",
   "nbconvert_exporter": "python",
   "pygments_lexer": "ipython3",
   "version": "3.8.8"
  }
 },
 "nbformat": 4,
 "nbformat_minor": 2
}
